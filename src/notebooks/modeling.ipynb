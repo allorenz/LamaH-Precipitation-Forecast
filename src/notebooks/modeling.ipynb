{
 "cells": [
  {
   "cell_type": "markdown",
   "metadata": {},
   "source": [
    "# __Import__"
   ]
  },
  {
   "cell_type": "code",
   "execution_count": 1,
   "metadata": {},
   "outputs": [],
   "source": [
    "import torch\n",
    "from src.scripts.preprocessing import run_preprocessing, load_preprocessed_data\n",
    "from src.models.models import NeuralNet, CustomDataset\n",
    "from sklearn.model_selection import train_test_split"
   ]
  },
  {
   "cell_type": "markdown",
   "metadata": {},
   "source": [
    "__Helper Functions__"
   ]
  },
  {
   "cell_type": "code",
   "execution_count": 2,
   "metadata": {},
   "outputs": [],
   "source": [
    "def split_data(df):\n",
    "    X = df.drop(\"prec\", axis=1)\n",
    "    y = df[\"prec\"]\n",
    "    X_train, X_test, y_train, y_test = train_test_split(X, y, train_size=0.7, random_state=42)\n",
    "\n",
    "    return X_train, X_test, y_train, y_test"
   ]
  },
  {
   "cell_type": "markdown",
   "metadata": {},
   "source": [
    "__Load Data__"
   ]
  },
  {
   "cell_type": "code",
   "execution_count": 3,
   "metadata": {},
   "outputs": [
    {
     "data": {
      "text/plain": [
       "(1424400, 26)"
      ]
     },
     "execution_count": 3,
     "metadata": {},
     "output_type": "execute_result"
    }
   ],
   "source": [
    "df = load_preprocessed_data()\n",
    "X_train, X_test, y_train, y_test = split_data(df)\n",
    "df.shape"
   ]
  },
  {
   "cell_type": "markdown",
   "metadata": {},
   "source": [
    "# __Neural Net__"
   ]
  },
  {
   "cell_type": "markdown",
   "metadata": {},
   "source": [
    "__Train__"
   ]
  },
  {
   "cell_type": "code",
   "execution_count": 6,
   "metadata": {},
   "outputs": [
    {
     "name": "stdout",
     "output_type": "stream",
     "text": [
      "Starting epoch 1\n"
     ]
    },
    {
     "name": "stderr",
     "output_type": "stream",
     "text": [
      "                                                               \r"
     ]
    },
    {
     "name": "stdout",
     "output_type": "stream",
     "text": [
      "Epoch 0, Training loss: 3.442771726793135\n",
      "Epoch 0, Validation loss: 3.189964018611471\n",
      "Model checkpoint saved at c:\\Users\\Alexander Lorenz\\Documents\\GitHub\\LamaH-Precipitation-Forecast\\model\\checkpoints/model_epoch_1.pth\n",
      "Starting epoch 2\n"
     ]
    },
    {
     "name": "stderr",
     "output_type": "stream",
     "text": [
      "                                                               \r"
     ]
    },
    {
     "name": "stdout",
     "output_type": "stream",
     "text": [
      "Epoch 1, Training loss: 3.143847956882362\n",
      "Epoch 1, Validation loss: 3.081177649445139\n",
      "Model checkpoint saved at c:\\Users\\Alexander Lorenz\\Documents\\GitHub\\LamaH-Precipitation-Forecast\\model\\checkpoints/model_epoch_2.pth\n",
      "Starting epoch 3\n"
     ]
    },
    {
     "name": "stderr",
     "output_type": "stream",
     "text": [
      "                                                               \r"
     ]
    },
    {
     "name": "stdout",
     "output_type": "stream",
     "text": [
      "Epoch 2, Training loss: 3.0651889323346575\n",
      "Epoch 2, Validation loss: 3.0195774029199995\n",
      "Model checkpoint saved at c:\\Users\\Alexander Lorenz\\Documents\\GitHub\\LamaH-Precipitation-Forecast\\model\\checkpoints/model_epoch_3.pth\n",
      "Starting epoch 4\n"
     ]
    },
    {
     "name": "stderr",
     "output_type": "stream",
     "text": [
      "                                                               \r"
     ]
    },
    {
     "name": "stdout",
     "output_type": "stream",
     "text": [
      "Epoch 3, Training loss: 3.012750497540705\n",
      "Epoch 3, Validation loss: 2.971629840948811\n",
      "Model checkpoint saved at c:\\Users\\Alexander Lorenz\\Documents\\GitHub\\LamaH-Precipitation-Forecast\\model\\checkpoints/model_epoch_4.pth\n",
      "Starting epoch 5\n"
     ]
    },
    {
     "name": "stderr",
     "output_type": "stream",
     "text": [
      "                                                               \r"
     ]
    },
    {
     "name": "stdout",
     "output_type": "stream",
     "text": [
      "Epoch 4, Training loss: 2.9735268342479664\n",
      "Epoch 4, Validation loss: 2.9347853280477794\n",
      "Model checkpoint saved at c:\\Users\\Alexander Lorenz\\Documents\\GitHub\\LamaH-Precipitation-Forecast\\model\\checkpoints/model_epoch_5.pth\n",
      "Starting epoch 6\n"
     ]
    },
    {
     "name": "stderr",
     "output_type": "stream",
     "text": [
      "                                                               \r"
     ]
    },
    {
     "name": "stdout",
     "output_type": "stream",
     "text": [
      "Epoch 5, Training loss: 2.9422127779855347\n",
      "Epoch 5, Validation loss: 2.9059660041583983\n",
      "Model checkpoint saved at c:\\Users\\Alexander Lorenz\\Documents\\GitHub\\LamaH-Precipitation-Forecast\\model\\checkpoints/model_epoch_6.pth\n",
      "Starting epoch 7\n"
     ]
    },
    {
     "name": "stderr",
     "output_type": "stream",
     "text": [
      "                                                               \r"
     ]
    },
    {
     "name": "stdout",
     "output_type": "stream",
     "text": [
      "Epoch 6, Training loss: 2.9151667414565448\n",
      "Epoch 6, Validation loss: 2.882580850498216\n",
      "Model checkpoint saved at c:\\Users\\Alexander Lorenz\\Documents\\GitHub\\LamaH-Precipitation-Forecast\\model\\checkpoints/model_epoch_7.pth\n",
      "Starting epoch 8\n"
     ]
    },
    {
     "name": "stderr",
     "output_type": "stream",
     "text": [
      "                                                               \r"
     ]
    },
    {
     "name": "stdout",
     "output_type": "stream",
     "text": [
      "Epoch 7, Training loss: 2.892066875180476\n",
      "Epoch 7, Validation loss: 2.861898654161036\n",
      "Model checkpoint saved at c:\\Users\\Alexander Lorenz\\Documents\\GitHub\\LamaH-Precipitation-Forecast\\model\\checkpoints/model_epoch_8.pth\n",
      "Starting epoch 9\n"
     ]
    },
    {
     "name": "stderr",
     "output_type": "stream",
     "text": [
      "                                                               \r"
     ]
    },
    {
     "name": "stdout",
     "output_type": "stream",
     "text": [
      "Epoch 8, Training loss: 2.8710557869294795\n",
      "Epoch 8, Validation loss: 2.8444222122747704\n",
      "Model checkpoint saved at c:\\Users\\Alexander Lorenz\\Documents\\GitHub\\LamaH-Precipitation-Forecast\\model\\checkpoints/model_epoch_9.pth\n",
      "Starting epoch 10\n"
     ]
    },
    {
     "name": "stderr",
     "output_type": "stream",
     "text": [
      "                                                                \r"
     ]
    },
    {
     "name": "stdout",
     "output_type": "stream",
     "text": [
      "Epoch 9, Training loss: 2.852921948590542\n",
      "Epoch 9, Validation loss: 2.830360329988493\n",
      "Model checkpoint saved at c:\\Users\\Alexander Lorenz\\Documents\\GitHub\\LamaH-Precipitation-Forecast\\model\\checkpoints/model_epoch_10.pth\n",
      "Starting epoch 11\n"
     ]
    },
    {
     "name": "stderr",
     "output_type": "stream",
     "text": [
      "                                                                \r"
     ]
    },
    {
     "name": "stdout",
     "output_type": "stream",
     "text": [
      "Epoch 10, Training loss: 2.837092785252227\n",
      "Epoch 10, Validation loss: 2.814224512362455\n",
      "Model checkpoint saved at c:\\Users\\Alexander Lorenz\\Documents\\GitHub\\LamaH-Precipitation-Forecast\\model\\checkpoints/model_epoch_11.pth\n",
      "Starting epoch 12\n"
     ]
    },
    {
     "name": "stderr",
     "output_type": "stream",
     "text": [
      "                                                                \r"
     ]
    },
    {
     "name": "stdout",
     "output_type": "stream",
     "text": [
      "Epoch 11, Training loss: 2.822946707688186\n",
      "Epoch 11, Validation loss: 2.802120205705102\n",
      "Model checkpoint saved at c:\\Users\\Alexander Lorenz\\Documents\\GitHub\\LamaH-Precipitation-Forecast\\model\\checkpoints/model_epoch_12.pth\n",
      "Starting epoch 13\n"
     ]
    },
    {
     "name": "stderr",
     "output_type": "stream",
     "text": [
      "                                                                \r"
     ]
    },
    {
     "name": "stdout",
     "output_type": "stream",
     "text": [
      "Epoch 12, Training loss: 2.8104365651353485\n",
      "Epoch 12, Validation loss: 2.792002352301332\n",
      "Model checkpoint saved at c:\\Users\\Alexander Lorenz\\Documents\\GitHub\\LamaH-Precipitation-Forecast\\model\\checkpoints/model_epoch_13.pth\n",
      "Starting epoch 14\n"
     ]
    },
    {
     "name": "stderr",
     "output_type": "stream",
     "text": [
      "                                                                \r"
     ]
    },
    {
     "name": "stdout",
     "output_type": "stream",
     "text": [
      "Epoch 13, Training loss: 2.7989033545318405\n",
      "Epoch 13, Validation loss: 2.779978527661407\n",
      "Model checkpoint saved at c:\\Users\\Alexander Lorenz\\Documents\\GitHub\\LamaH-Precipitation-Forecast\\model\\checkpoints/model_epoch_14.pth\n",
      "Starting epoch 15\n"
     ]
    },
    {
     "name": "stderr",
     "output_type": "stream",
     "text": [
      "                                                                \r"
     ]
    },
    {
     "name": "stdout",
     "output_type": "stream",
     "text": [
      "Epoch 14, Training loss: 2.788338463610954\n",
      "Epoch 14, Validation loss: 2.7737131820782692\n",
      "Model checkpoint saved at c:\\Users\\Alexander Lorenz\\Documents\\GitHub\\LamaH-Precipitation-Forecast\\model\\checkpoints/model_epoch_15.pth\n",
      "Starting epoch 16\n"
     ]
    },
    {
     "name": "stderr",
     "output_type": "stream",
     "text": [
      "                                                                \r"
     ]
    },
    {
     "name": "stdout",
     "output_type": "stream",
     "text": [
      "Epoch 15, Training loss: 2.7785848522828998\n",
      "Epoch 15, Validation loss: 2.7660756079365396\n",
      "Model checkpoint saved at c:\\Users\\Alexander Lorenz\\Documents\\GitHub\\LamaH-Precipitation-Forecast\\model\\checkpoints/model_epoch_16.pth\n",
      "Starting epoch 17\n"
     ]
    },
    {
     "name": "stderr",
     "output_type": "stream",
     "text": [
      "                                                                \r"
     ]
    },
    {
     "name": "stdout",
     "output_type": "stream",
     "text": [
      "Epoch 16, Training loss: 2.769452022771627\n",
      "Epoch 16, Validation loss: 2.7567880353260596\n",
      "Model checkpoint saved at c:\\Users\\Alexander Lorenz\\Documents\\GitHub\\LamaH-Precipitation-Forecast\\model\\checkpoints/model_epoch_17.pth\n",
      "Starting epoch 18\n"
     ]
    },
    {
     "name": "stderr",
     "output_type": "stream",
     "text": [
      "                                                                \r"
     ]
    },
    {
     "name": "stdout",
     "output_type": "stream",
     "text": [
      "Epoch 17, Training loss: 2.760805088947306\n",
      "Epoch 17, Validation loss: 2.752231563353442\n",
      "Model checkpoint saved at c:\\Users\\Alexander Lorenz\\Documents\\GitHub\\LamaH-Precipitation-Forecast\\model\\checkpoints/model_epoch_18.pth\n",
      "Starting epoch 19\n"
     ]
    },
    {
     "name": "stderr",
     "output_type": "stream",
     "text": [
      "                                                                \r"
     ]
    },
    {
     "name": "stdout",
     "output_type": "stream",
     "text": [
      "Epoch 18, Training loss: 2.75300176928683\n",
      "Epoch 18, Validation loss: 2.7455298016488023\n",
      "Model checkpoint saved at c:\\Users\\Alexander Lorenz\\Documents\\GitHub\\LamaH-Precipitation-Forecast\\model\\checkpoints/model_epoch_19.pth\n",
      "Starting epoch 20\n"
     ]
    },
    {
     "name": "stderr",
     "output_type": "stream",
     "text": [
      "                                                                \r"
     ]
    },
    {
     "name": "stdout",
     "output_type": "stream",
     "text": [
      "Epoch 19, Training loss: 2.7457767067120837\n",
      "Epoch 19, Validation loss: 2.741729931808507\n",
      "Model checkpoint saved at c:\\Users\\Alexander Lorenz\\Documents\\GitHub\\LamaH-Precipitation-Forecast\\model\\checkpoints/model_epoch_20.pth\n",
      "Starting epoch 21\n"
     ]
    },
    {
     "name": "stderr",
     "output_type": "stream",
     "text": [
      "                                                                \r"
     ]
    },
    {
     "name": "stdout",
     "output_type": "stream",
     "text": [
      "Epoch 20, Training loss: 2.738955982513391\n",
      "Epoch 20, Validation loss: 2.736556554458376\n",
      "Model checkpoint saved at c:\\Users\\Alexander Lorenz\\Documents\\GitHub\\LamaH-Precipitation-Forecast\\model\\checkpoints/model_epoch_21.pth\n",
      "Starting epoch 22\n"
     ]
    },
    {
     "name": "stderr",
     "output_type": "stream",
     "text": [
      "                                                                \r"
     ]
    },
    {
     "name": "stdout",
     "output_type": "stream",
     "text": [
      "Epoch 21, Training loss: 2.732382810544294\n",
      "Epoch 21, Validation loss: 2.731727828839519\n",
      "Model checkpoint saved at c:\\Users\\Alexander Lorenz\\Documents\\GitHub\\LamaH-Precipitation-Forecast\\model\\checkpoints/model_epoch_22.pth\n",
      "Starting epoch 23\n"
     ]
    },
    {
     "name": "stderr",
     "output_type": "stream",
     "text": [
      "                                                                \r"
     ]
    },
    {
     "name": "stdout",
     "output_type": "stream",
     "text": [
      "Epoch 22, Training loss: 2.726347181793967\n",
      "Epoch 22, Validation loss: 2.7251302108304736\n",
      "Model checkpoint saved at c:\\Users\\Alexander Lorenz\\Documents\\GitHub\\LamaH-Precipitation-Forecast\\model\\checkpoints/model_epoch_23.pth\n",
      "Starting epoch 24\n"
     ]
    },
    {
     "name": "stderr",
     "output_type": "stream",
     "text": [
      "                                                                \r"
     ]
    },
    {
     "name": "stdout",
     "output_type": "stream",
     "text": [
      "Epoch 23, Training loss: 2.720231261279372\n",
      "Epoch 23, Validation loss: 2.719681112498817\n",
      "Model checkpoint saved at c:\\Users\\Alexander Lorenz\\Documents\\GitHub\\LamaH-Precipitation-Forecast\\model\\checkpoints/model_epoch_24.pth\n",
      "Starting epoch 25\n"
     ]
    },
    {
     "name": "stderr",
     "output_type": "stream",
     "text": [
      "                                                                \r"
     ]
    },
    {
     "name": "stdout",
     "output_type": "stream",
     "text": [
      "Epoch 24, Training loss: 2.714454432308138\n",
      "Epoch 24, Validation loss: 2.7167364136444623\n",
      "Model checkpoint saved at c:\\Users\\Alexander Lorenz\\Documents\\GitHub\\LamaH-Precipitation-Forecast\\model\\checkpoints/model_epoch_25.pth\n",
      "Starting epoch 26\n"
     ]
    },
    {
     "name": "stderr",
     "output_type": "stream",
     "text": [
      "                                                                \r"
     ]
    },
    {
     "name": "stdout",
     "output_type": "stream",
     "text": [
      "Epoch 25, Training loss: 2.7092112433619615\n",
      "Epoch 25, Validation loss: 2.710835674449286\n",
      "Model checkpoint saved at c:\\Users\\Alexander Lorenz\\Documents\\GitHub\\LamaH-Precipitation-Forecast\\model\\checkpoints/model_epoch_26.pth\n",
      "Starting epoch 27\n"
     ]
    },
    {
     "name": "stderr",
     "output_type": "stream",
     "text": [
      "                                                                \r"
     ]
    },
    {
     "name": "stdout",
     "output_type": "stream",
     "text": [
      "Epoch 26, Training loss: 2.703771584193116\n",
      "Epoch 26, Validation loss: 2.704782923895816\n",
      "Model checkpoint saved at c:\\Users\\Alexander Lorenz\\Documents\\GitHub\\LamaH-Precipitation-Forecast\\model\\checkpoints/model_epoch_27.pth\n",
      "Starting epoch 28\n"
     ]
    },
    {
     "name": "stderr",
     "output_type": "stream",
     "text": [
      "                                                                \r"
     ]
    },
    {
     "name": "stdout",
     "output_type": "stream",
     "text": [
      "Epoch 27, Training loss: 2.6983248349331768\n",
      "Epoch 27, Validation loss: 2.70139698143471\n",
      "Model checkpoint saved at c:\\Users\\Alexander Lorenz\\Documents\\GitHub\\LamaH-Precipitation-Forecast\\model\\checkpoints/model_epoch_28.pth\n",
      "Starting epoch 29\n"
     ]
    },
    {
     "name": "stderr",
     "output_type": "stream",
     "text": [
      "                                                                \r"
     ]
    },
    {
     "name": "stdout",
     "output_type": "stream",
     "text": [
      "Epoch 28, Training loss: 2.6933412592738524\n",
      "Epoch 28, Validation loss: 2.697884836631816\n",
      "Model checkpoint saved at c:\\Users\\Alexander Lorenz\\Documents\\GitHub\\LamaH-Precipitation-Forecast\\model\\checkpoints/model_epoch_29.pth\n",
      "Starting epoch 30\n"
     ]
    },
    {
     "name": "stderr",
     "output_type": "stream",
     "text": [
      "                                                                \r"
     ]
    },
    {
     "name": "stdout",
     "output_type": "stream",
     "text": [
      "Epoch 29, Training loss: 2.6881949979548887\n",
      "Epoch 29, Validation loss: 2.6936426005964065\n",
      "Model checkpoint saved at c:\\Users\\Alexander Lorenz\\Documents\\GitHub\\LamaH-Precipitation-Forecast\\model\\checkpoints/model_epoch_30.pth\n"
     ]
    }
   ],
   "source": [
    "# create data loader\n",
    "train_dataset = CustomDataset(X_train, y_train)\n",
    "trainloader = torch.utils.data.DataLoader(train_dataset, batch_size=64)\n",
    "test_dataset = CustomDataset(X_test, y_test)\n",
    "testloader = torch.utils.data.DataLoader(test_dataset, batch_size=64)\n",
    "\n",
    "# create model\n",
    "model = NeuralNet()\n",
    "\n",
    "# train model\n",
    "model.fit(num_epochs=30, trainloader=trainloader, testloader=testloader)"
   ]
  },
  {
   "cell_type": "markdown",
   "metadata": {},
   "source": [
    "__Evaluate__"
   ]
  },
  {
   "cell_type": "code",
   "execution_count": 7,
   "metadata": {},
   "outputs": [
    {
     "name": "stdout",
     "output_type": "stream",
     "text": [
      "Test Set RMSE: 2.6936\n"
     ]
    }
   ],
   "source": [
    "model.evaluate(dataloader=testloader)"
   ]
  }
 ],
 "metadata": {
  "kernelspec": {
   "display_name": "ml",
   "language": "python",
   "name": "python3"
  },
  "language_info": {
   "codemirror_mode": {
    "name": "ipython",
    "version": 3
   },
   "file_extension": ".py",
   "mimetype": "text/x-python",
   "name": "python",
   "nbconvert_exporter": "python",
   "pygments_lexer": "ipython3",
   "version": "3.11.10"
  }
 },
 "nbformat": 4,
 "nbformat_minor": 2
}
